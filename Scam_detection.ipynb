{
 "cells": [
  {
   "cell_type": "markdown",
   "id": "4e994a88-ff68-4cb5-a936-586603b9c66d",
   "metadata": {},
   "source": [
    "This is a simple sms fraud detection ml model using ##SKLEARN Library\n"
   ]
  },
  {
   "cell_type": "code",
   "execution_count": null,
   "id": "253109c0",
   "metadata": {},
   "outputs": [],
   "source": []
  },
  {
   "cell_type": "code",
   "execution_count": 2,
   "id": "22a6236e-f520-4d00-9992-f8c3d4a6fa73",
   "metadata": {},
   "outputs": [
    {
     "name": "stdout",
     "output_type": "stream",
     "text": [
      "Collecting kagglehub\n",
      "  Downloading kagglehub-0.3.13-py3-none-any.whl (68 kB)\n",
      "\u001b[2K     \u001b[38;2;114;156;31m━━━━━━━━━━━━━━━━━━━━━━━━━━━━━━━━━━━━━━━\u001b[0m \u001b[32m68.3/68.3 kB\u001b[0m \u001b[31m243.6 kB/s\u001b[0m eta \u001b[36m0:00:00\u001b[0m kB/s\u001b[0m eta \u001b[36m0:00:01\u001b[0m:01\u001b[0m\n",
      "\u001b[?25hRequirement already satisfied: packaging in ./.venv/lib/python3.11/site-packages (from kagglehub) (25.0)\n",
      "Requirement already satisfied: pyyaml in ./.venv/lib/python3.11/site-packages (from kagglehub) (6.0.2)\n",
      "Requirement already satisfied: requests in ./.venv/lib/python3.11/site-packages (from kagglehub) (2.32.5)\n",
      "Collecting tqdm\n",
      "  Using cached tqdm-4.67.1-py3-none-any.whl (78 kB)\n",
      "Requirement already satisfied: charset_normalizer<4,>=2 in ./.venv/lib/python3.11/site-packages (from requests->kagglehub) (3.4.3)\n",
      "Requirement already satisfied: idna<4,>=2.5 in ./.venv/lib/python3.11/site-packages (from requests->kagglehub) (3.10)\n",
      "Requirement already satisfied: urllib3<3,>=1.21.1 in ./.venv/lib/python3.11/site-packages (from requests->kagglehub) (2.5.0)\n",
      "Requirement already satisfied: certifi>=2017.4.17 in ./.venv/lib/python3.11/site-packages (from requests->kagglehub) (2025.8.3)\n",
      "Installing collected packages: tqdm, kagglehub\n",
      "Successfully installed kagglehub-0.3.13 tqdm-4.67.1\n"
     ]
    }
   ],
   "source": [
    "\n",
    "#install kagglehub to fetch data directly\n",
    "!pip install kagglehub"
   ]
  },
  {
   "cell_type": "code",
   "execution_count": 3,
   "id": "5cb04b7b-c598-4847-8960-5c8ab4242895",
   "metadata": {},
   "outputs": [
    {
     "name": "stderr",
     "output_type": "stream",
     "text": [
      "/media/youze/FC4CFBF54CFBA9121/PYTHON/SK-LEARN/.venv/lib/python3.11/site-packages/tqdm/auto.py:21: TqdmWarning: IProgress not found. Please update jupyter and ipywidgets. See https://ipywidgets.readthedocs.io/en/stable/user_install.html\n",
      "  from .autonotebook import tqdm as notebook_tqdm\n"
     ]
    },
    {
     "name": "stdout",
     "output_type": "stream",
     "text": [
      "Downloading from https://www.kaggle.com/api/v1/datasets/download/henrydioniz/swahili-sms-detection-dataset?dataset_version_number=1...\n"
     ]
    },
    {
     "name": "stderr",
     "output_type": "stream",
     "text": [
      "100%|█████████████████████████████████████████████████████████████████████████████████████████████| 26.1k/26.1k [00:00<00:00, 2.33MB/s]"
     ]
    },
    {
     "name": "stdout",
     "output_type": "stream",
     "text": [
      "Extracting files...\n",
      "Path to dataset files: /home/youze/.cache/kagglehub/datasets/henrydioniz/swahili-sms-detection-dataset/versions/1\n"
     ]
    },
    {
     "name": "stderr",
     "output_type": "stream",
     "text": [
      "\n"
     ]
    }
   ],
   "source": [
    "import kagglehub\n",
    "\n",
    "# Download latest version\n",
    "path = kagglehub.dataset_download(\"henrydioniz/swahili-sms-detection-dataset\")\n",
    "\n",
    "print(\"Path to dataset files:\", path)"
   ]
  },
  {
   "cell_type": "code",
   "execution_count": 5,
   "id": "250f4b25-adae-4d9e-9823-396edbfe7151",
   "metadata": {},
   "outputs": [
    {
     "data": {
      "text/html": [
       "<div>\n",
       "<style scoped>\n",
       "    .dataframe tbody tr th:only-of-type {\n",
       "        vertical-align: middle;\n",
       "    }\n",
       "\n",
       "    .dataframe tbody tr th {\n",
       "        vertical-align: top;\n",
       "    }\n",
       "\n",
       "    .dataframe thead th {\n",
       "        text-align: right;\n",
       "    }\n",
       "</style>\n",
       "<table border=\"1\" class=\"dataframe\">\n",
       "  <thead>\n",
       "    <tr style=\"text-align: right;\">\n",
       "      <th></th>\n",
       "      <th>Category</th>\n",
       "      <th>Sms</th>\n",
       "    </tr>\n",
       "  </thead>\n",
       "  <tbody>\n",
       "    <tr>\n",
       "      <th>0</th>\n",
       "      <td>trust</td>\n",
       "      <td>Nipigie baada ya saa moja, tafadhali.</td>\n",
       "    </tr>\n",
       "    <tr>\n",
       "      <th>1</th>\n",
       "      <td>scam</td>\n",
       "      <td>Naomba unitumie iyo Hela kwenye namba hii ya A...</td>\n",
       "    </tr>\n",
       "    <tr>\n",
       "      <th>2</th>\n",
       "      <td>scam</td>\n",
       "      <td>666,KARIBU FREEMASON UTIMIZE NDOTO KATIKA BIAS...</td>\n",
       "    </tr>\n",
       "    <tr>\n",
       "      <th>3</th>\n",
       "      <td>trust</td>\n",
       "      <td>Watoto wanapenda sana zawadi ulizowaletea.</td>\n",
       "    </tr>\n",
       "    <tr>\n",
       "      <th>4</th>\n",
       "      <td>scam</td>\n",
       "      <td>IYO PESA ITUME KWENYE NAMBA HII 0657538690 JIN...</td>\n",
       "    </tr>\n",
       "  </tbody>\n",
       "</table>\n",
       "</div>"
      ],
      "text/plain": [
       "  Category                                                Sms\n",
       "0    trust              Nipigie baada ya saa moja, tafadhali.\n",
       "1     scam  Naomba unitumie iyo Hela kwenye namba hii ya A...\n",
       "2     scam  666,KARIBU FREEMASON UTIMIZE NDOTO KATIKA BIAS...\n",
       "3    trust         Watoto wanapenda sana zawadi ulizowaletea.\n",
       "4     scam  IYO PESA ITUME KWENYE NAMBA HII 0657538690 JIN..."
      ]
     },
     "execution_count": 5,
     "metadata": {},
     "output_type": "execute_result"
    }
   ],
   "source": [
    "\n",
    "#import data from CSV file\n",
    "import pandas as pd\n",
    "data =  pd.read_csv('bongo_scam.csv')\n",
    "data.head()"
   ]
  },
  {
   "cell_type": "code",
   "execution_count": 8,
   "id": "de4308b2-d492-4cc0-beb3-74735c3593b7",
   "metadata": {},
   "outputs": [
    {
     "data": {
      "text/html": [
       "<div>\n",
       "<style scoped>\n",
       "    .dataframe tbody tr th:only-of-type {\n",
       "        vertical-align: middle;\n",
       "    }\n",
       "\n",
       "    .dataframe tbody tr th {\n",
       "        vertical-align: top;\n",
       "    }\n",
       "\n",
       "    .dataframe thead th {\n",
       "        text-align: right;\n",
       "    }\n",
       "</style>\n",
       "<table border=\"1\" class=\"dataframe\">\n",
       "  <thead>\n",
       "    <tr style=\"text-align: right;\">\n",
       "      <th></th>\n",
       "      <th>Category</th>\n",
       "      <th>Sms</th>\n",
       "    </tr>\n",
       "  </thead>\n",
       "  <tbody>\n",
       "    <tr>\n",
       "      <th>0</th>\n",
       "      <td>0.0</td>\n",
       "      <td>Nipigie baada ya saa moja, tafadhali.</td>\n",
       "    </tr>\n",
       "    <tr>\n",
       "      <th>1</th>\n",
       "      <td>1.0</td>\n",
       "      <td>Naomba unitumie iyo Hela kwenye namba hii ya A...</td>\n",
       "    </tr>\n",
       "    <tr>\n",
       "      <th>2</th>\n",
       "      <td>1.0</td>\n",
       "      <td>666,KARIBU FREEMASON UTIMIZE NDOTO KATIKA BIAS...</td>\n",
       "    </tr>\n",
       "    <tr>\n",
       "      <th>3</th>\n",
       "      <td>0.0</td>\n",
       "      <td>Watoto wanapenda sana zawadi ulizowaletea.</td>\n",
       "    </tr>\n",
       "    <tr>\n",
       "      <th>4</th>\n",
       "      <td>1.0</td>\n",
       "      <td>IYO PESA ITUME KWENYE NAMBA HII 0657538690 JIN...</td>\n",
       "    </tr>\n",
       "  </tbody>\n",
       "</table>\n",
       "</div>"
      ],
      "text/plain": [
       "   Category                                                Sms\n",
       "0       0.0              Nipigie baada ya saa moja, tafadhali.\n",
       "1       1.0  Naomba unitumie iyo Hela kwenye namba hii ya A...\n",
       "2       1.0  666,KARIBU FREEMASON UTIMIZE NDOTO KATIKA BIAS...\n",
       "3       0.0         Watoto wanapenda sana zawadi ulizowaletea.\n",
       "4       1.0  IYO PESA ITUME KWENYE NAMBA HII 0657538690 JIN..."
      ]
     },
     "execution_count": 8,
     "metadata": {},
     "output_type": "execute_result"
    }
   ],
   "source": [
    "\n",
    "\n",
    "from sklearn import preprocessing\n",
    "\n",
    "# column_to_enc = ['Category']\n",
    "enc =  preprocessing.OrdinalEncoder(\n",
    "    categories = [['trust','scam']]\n",
    ")\n",
    "\n",
    "data[['Category']] = enc.fit_transform(data[['Category']])\n",
    "data.head()"
   ]
  },
  {
   "cell_type": "code",
   "execution_count": 9,
   "id": "3cffaab4-59b7-4c8e-b6b7-499875613caa",
   "metadata": {},
   "outputs": [],
   "source": [
    "from sklearn.model_selection import train_test_split\n",
    "\n",
    "x_train,x_test,y_train,y_test = train_test_split(data.Sms,data.Category,test_size=0.2)"
   ]
  },
  {
   "cell_type": "code",
   "execution_count": 19,
   "id": "d472bd6a-f546-45fa-b326-60302723281a",
   "metadata": {},
   "outputs": [
    {
     "data": {
      "text/plain": [
       "array([[0, 1, 1, ..., 0, 0, 0],\n",
       "       [0, 0, 0, ..., 0, 0, 0],\n",
       "       [0, 0, 1, ..., 0, 0, 0],\n",
       "       ...,\n",
       "       [0, 0, 0, ..., 0, 0, 0],\n",
       "       [0, 0, 0, ..., 0, 0, 0],\n",
       "       [0, 0, 0, ..., 0, 0, 0]], shape=(1206, 1527))"
      ]
     },
     "execution_count": 19,
     "metadata": {},
     "output_type": "execute_result"
    }
   ],
   "source": [
    "from sklearn.feature_extraction.text import CountVectorizer\n",
    "\n",
    "vectorizer = CountVectorizer()\n",
    "\n",
    "x_train_vectors = vectorizer.fit_transform(x_train)\n",
    "\n",
    "x_train_vectors.toarray()\n",
    "\n"
   ]
  },
  {
   "cell_type": "code",
   "execution_count": 20,
   "id": "6ba72f04-afda-4535-a0e3-d011d786ae0e",
   "metadata": {},
   "outputs": [],
   "source": [
    "from sklearn.naive_bayes import MultinomialNB\n",
    "MNB =MultinomialNB()\n",
    "\n",
    "model = MNB.fit(x_train_vectors,y_train)"
   ]
  },
  {
   "cell_type": "code",
   "execution_count": 21,
   "id": "5ad1719b-2049-470c-ae3a-d459b899351d",
   "metadata": {},
   "outputs": [
    {
     "data": {
      "text/plain": [
       "0.9900662251655629"
      ]
     },
     "execution_count": 21,
     "metadata": {},
     "output_type": "execute_result"
    }
   ],
   "source": [
    "x_test_vct = vectorizer.transform(x_test)\n",
    "\n",
    "model.score(x_test_vct,y_test)\n",
    "# x_test_vct.toarray()"
   ]
  },
  {
   "cell_type": "code",
   "execution_count": 23,
   "id": "8009193f-2a33-4bb7-a0e2-696931d29680",
   "metadata": {},
   "outputs": [
    {
     "data": {
      "text/plain": [
       "array([0., 1.])"
      ]
     },
     "execution_count": 23,
     "metadata": {},
     "output_type": "execute_result"
    }
   ],
   "source": [
    "sms=[\n",
    "    \"wazima uko\",\n",
    "    \"Nitumie iyo hela kwenye namba hii 067739272 jina ni KASILU MAUMAU\"\n",
    "]\n",
    "\n",
    "sms_vector =  vectorizer.transform(sms)\n",
    "\n",
    "model.predict(sms_vector)"
   ]
  },
  {
   "cell_type": "code",
   "execution_count": 25,
   "id": "5c5a7a97-6404-4bba-97f0-3315e8227654",
   "metadata": {},
   "outputs": [
    {
     "data": {
      "text/plain": [
       "array([1.])"
      ]
     },
     "execution_count": 25,
     "metadata": {},
     "output_type": "execute_result"
    }
   ],
   "source": [
    "text = [\"ile hela tuma kwenye namba hii\"]\n",
    "\n",
    "text_vector = vectorizer.transform(text)\n",
    "model.predict(text_vector)"
   ]
  },
  {
   "cell_type": "markdown",
   "id": "563a4328-436d-44f4-b3eb-707f52616011",
   "metadata": {},
   "source": [
    "#Credit\n",
    "Henry Dioniz (datasets)"
   ]
  }
 ],
 "metadata": {
  "kernelspec": {
   "display_name": "Python 3 (ipykernel)",
   "language": "python",
   "name": "python3"
  },
  "language_info": {
   "codemirror_mode": {
    "name": "ipython",
    "version": 3
   },
   "file_extension": ".py",
   "mimetype": "text/x-python",
   "name": "python",
   "nbconvert_exporter": "python",
   "pygments_lexer": "ipython3",
   "version": "3.11.2"
  }
 },
 "nbformat": 4,
 "nbformat_minor": 5
}
